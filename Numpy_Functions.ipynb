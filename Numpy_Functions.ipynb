{
  "nbformat": 4,
  "nbformat_minor": 0,
  "metadata": {
    "kernelspec": {
      "display_name": "Python 3",
      "language": "python",
      "name": "python3"
    },
    "language_info": {
      "codemirror_mode": {
        "name": "ipython",
        "version": 3
      },
      "file_extension": ".py",
      "mimetype": "text/x-python",
      "name": "python",
      "nbconvert_exporter": "python",
      "pygments_lexer": "ipython3",
      "version": "3.8.3"
    },
    "colab": {
      "provenance": [],
      "collapsed_sections": []
    }
  },
  "cells": [
    {
      "cell_type": "code",
      "metadata": {
        "id": "-uY1VKa3yV0-"
      },
      "source": [
        "import numpy as np\n",
        "x = np.array([5, 1, 9, 8, 7, 2, 9, 3])"
      ],
      "execution_count": null,
      "outputs": []
    },
    {
      "cell_type": "markdown",
      "metadata": {
        "id": "G8A-rem-E_p0"
      },
      "source": [
        "Method 1"
      ]
    },
    {
      "cell_type": "code",
      "metadata": {
        "colab": {
          "base_uri": "https://localhost:8080/"
        },
        "id": "l5er-HgbyV1I",
        "outputId": "8c4baa0a-7302-4668-d99b-6535930a5c70"
      },
      "source": [
        "# Sum of all the elements of an array\n",
        "# numpy.sum(a, axis=None, dtype=None, out=None, keepdims=<no value>, initial=<no value>, where=<no value>)[source]\n",
        "x.sum()"
      ],
      "execution_count": null,
      "outputs": [
        {
          "output_type": "execute_result",
          "data": {
            "text/plain": [
              "44"
            ]
          },
          "metadata": {
            "tags": []
          },
          "execution_count": 126
        }
      ]
    },
    {
      "cell_type": "markdown",
      "metadata": {
        "id": "QoEAEu3AFDKT"
      },
      "source": [
        "Method 2"
      ]
    },
    {
      "cell_type": "code",
      "metadata": {
        "colab": {
          "base_uri": "https://localhost:8080/"
        },
        "id": "2OHi3kU0yV1M",
        "outputId": "8fb5c75b-d465-44d4-c518-9970636d0fbe"
      },
      "source": [
        "# Minimum value among the elements of an array\n",
        "# ndarray.min(axis=None, out=None, keepdims=False, initial=<no value>, where=True)\n",
        "x.min()"
      ],
      "execution_count": null,
      "outputs": [
        {
          "output_type": "execute_result",
          "data": {
            "text/plain": [
              "1"
            ]
          },
          "metadata": {
            "tags": []
          },
          "execution_count": 127
        }
      ]
    },
    {
      "cell_type": "markdown",
      "metadata": {
        "id": "29GJPOzCFIkn"
      },
      "source": [
        "Method 3 "
      ]
    },
    {
      "cell_type": "code",
      "metadata": {
        "colab": {
          "base_uri": "https://localhost:8080/"
        },
        "id": "VksQOUQCyV1O",
        "outputId": "2f149eab-0915-45e2-dedf-53f0540b5b93"
      },
      "source": [
        "#  Maximum value among the elements of an array\n",
        "# ndarray.max(axis=None, out=None, keepdims=False, initial=<no value>, where=True)\n",
        "x.max()"
      ],
      "execution_count": null,
      "outputs": [
        {
          "output_type": "execute_result",
          "data": {
            "text/plain": [
              "9"
            ]
          },
          "metadata": {
            "tags": []
          },
          "execution_count": 128
        }
      ]
    },
    {
      "cell_type": "markdown",
      "metadata": {
        "id": "H7AOiv9gFLoD"
      },
      "source": [
        "Method 4"
      ]
    },
    {
      "cell_type": "code",
      "metadata": {
        "colab": {
          "base_uri": "https://localhost:8080/"
        },
        "id": "is0lHlAoyV1Q",
        "outputId": "61988017-3ec0-43c2-db28-98f5429909d1"
      },
      "source": [
        "# Minimum index value among the indexes of elements of an array\n",
        "#numpy.argmin(a, axis=None, out=None)\n",
        "x.argmin()"
      ],
      "execution_count": null,
      "outputs": [
        {
          "output_type": "execute_result",
          "data": {
            "text/plain": [
              "1"
            ]
          },
          "metadata": {
            "tags": []
          },
          "execution_count": 129
        }
      ]
    },
    {
      "cell_type": "markdown",
      "metadata": {
        "id": "DS1Mep2NFRIX"
      },
      "source": [
        "Method 5"
      ]
    },
    {
      "cell_type": "code",
      "metadata": {
        "colab": {
          "base_uri": "https://localhost:8080/"
        },
        "id": "8Lf2oTluyV1T",
        "outputId": "fffdc79a-1b33-48dc-985a-70cbb52a266d"
      },
      "source": [
        "# Minimum index value among the indexes of elements of an array\n",
        "# numpy.argmax(a, axis=None, out=None)\n",
        "x.argmax()"
      ],
      "execution_count": null,
      "outputs": [
        {
          "output_type": "execute_result",
          "data": {
            "text/plain": [
              "2"
            ]
          },
          "metadata": {
            "tags": []
          },
          "execution_count": 130
        }
      ]
    },
    {
      "cell_type": "markdown",
      "metadata": {
        "id": "5LegDoOBFVOa"
      },
      "source": [
        "Method 6"
      ]
    },
    {
      "cell_type": "code",
      "metadata": {
        "colab": {
          "base_uri": "https://localhost:8080/"
        },
        "id": "TYadgLNgyV1V",
        "outputId": "59f2ae10-96da-4b30-ae05-d81dcfbae93c"
      },
      "source": [
        "# Logical \"AND\" operation among the elements of a boolean array\n",
        "# numpy.all(a, axis=None, out=None, keepdims=<no value>)\n",
        "np.all([False, True, True, True])"
      ],
      "execution_count": null,
      "outputs": [
        {
          "output_type": "execute_result",
          "data": {
            "text/plain": [
              "False"
            ]
          },
          "metadata": {
            "tags": []
          },
          "execution_count": 131
        }
      ]
    },
    {
      "cell_type": "markdown",
      "metadata": {
        "id": "s0nCCGJlFZjG"
      },
      "source": [
        "Method 7"
      ]
    },
    {
      "cell_type": "code",
      "metadata": {
        "colab": {
          "base_uri": "https://localhost:8080/"
        },
        "id": "WzXS14nWyV1X",
        "outputId": "73037d55-66d9-42b2-cff6-e99e626969b2"
      },
      "source": [
        "# Logical \"OR\" operation among the elements of a boolean array\n",
        "# numpy.any(a, axis=None, out=None, keepdims=<no value>)\n",
        "np.any([True, True, True, False])"
      ],
      "execution_count": null,
      "outputs": [
        {
          "output_type": "execute_result",
          "data": {
            "text/plain": [
              "True"
            ]
          },
          "metadata": {
            "tags": []
          },
          "execution_count": 132
        }
      ]
    },
    {
      "cell_type": "markdown",
      "metadata": {
        "id": "qwEwgkrSFeJ_"
      },
      "source": [
        "Method 8"
      ]
    },
    {
      "cell_type": "code",
      "metadata": {
        "colab": {
          "base_uri": "https://localhost:8080/"
        },
        "id": "x8vnW0FiyV1Z",
        "outputId": "eadfb0c6-0eb4-4a48-f87b-44d8280c6d1f"
      },
      "source": [
        "# Setting all the elements of an array to 0\n",
        "# numpy.zeros(shape, dtype=float, order='C')\n",
        "a = np.zeros((50, 50))\n",
        "np.any(a != 0)"
      ],
      "execution_count": null,
      "outputs": [
        {
          "output_type": "execute_result",
          "data": {
            "text/plain": [
              "False"
            ]
          },
          "metadata": {
            "tags": []
          },
          "execution_count": 133
        }
      ]
    },
    {
      "cell_type": "code",
      "metadata": {
        "colab": {
          "base_uri": "https://localhost:8080/"
        },
        "id": "cnJE_TDdyV1b",
        "outputId": "6f9ef7a2-a214-48a7-8829-7a051cf4af39"
      },
      "source": [
        "np.all(a == a)"
      ],
      "execution_count": null,
      "outputs": [
        {
          "output_type": "execute_result",
          "data": {
            "text/plain": [
              "True"
            ]
          },
          "metadata": {
            "tags": []
          },
          "execution_count": 134
        }
      ]
    },
    {
      "cell_type": "code",
      "metadata": {
        "colab": {
          "base_uri": "https://localhost:8080/"
        },
        "id": "xEW05G8byV1c",
        "outputId": "60cedaf2-07fd-46e4-c4d5-a655253066f1"
      },
      "source": [
        "a = np.array([1, 2, 3, 2])\n",
        "b = np.array([2, 2, 3, 2])\n",
        "c = np.array([6, 4, 4, 5])\n",
        "((a <= b) & (b <= c)).all()"
      ],
      "execution_count": null,
      "outputs": [
        {
          "output_type": "execute_result",
          "data": {
            "text/plain": [
              "True"
            ]
          },
          "metadata": {
            "tags": []
          },
          "execution_count": 135
        }
      ]
    },
    {
      "cell_type": "markdown",
      "metadata": {
        "id": "9al_5gZkFkeS"
      },
      "source": [
        "Method 9"
      ]
    },
    {
      "cell_type": "code",
      "metadata": {
        "colab": {
          "base_uri": "https://localhost:8080/"
        },
        "id": "wW5-TGNDyV1e",
        "outputId": "5b534fed-ed16-4cdd-ee70-8395689c9e54"
      },
      "source": [
        "#: Setting diagonally all elements as \"1\" in a square matrix\n",
        "# numpy.eye(N, M=None, k=0, dtype=<class 'float'>, order='C')\n",
        "arr = np.eye(5,k=0)\n",
        "arr"
      ],
      "execution_count": null,
      "outputs": [
        {
          "output_type": "execute_result",
          "data": {
            "text/plain": [
              "array([[1., 0., 0., 0., 0.],\n",
              "       [0., 1., 0., 0., 0.],\n",
              "       [0., 0., 1., 0., 0.],\n",
              "       [0., 0., 0., 1., 0.],\n",
              "       [0., 0., 0., 0., 1.]])"
            ]
          },
          "metadata": {
            "tags": []
          },
          "execution_count": 136
        }
      ]
    },
    {
      "cell_type": "code",
      "metadata": {
        "colab": {
          "base_uri": "https://localhost:8080/"
        },
        "id": "ZnvYPlWGyV1g",
        "outputId": "9f7c1837-0120-47a0-9e3a-39ce1865969f"
      },
      "source": [
        "#...continues: We can also specify other than square matrix but it would look like as below\n",
        "arr = np.eye(3,4)\n",
        "arr"
      ],
      "execution_count": null,
      "outputs": [
        {
          "output_type": "execute_result",
          "data": {
            "text/plain": [
              "array([[1., 0., 0., 0.],\n",
              "       [0., 1., 0., 0.],\n",
              "       [0., 0., 1., 0.]])"
            ]
          },
          "metadata": {
            "tags": []
          },
          "execution_count": 137
        }
      ]
    },
    {
      "cell_type": "markdown",
      "metadata": {
        "id": "OvQHyAjpFoWA"
      },
      "source": [
        "Method 10 "
      ]
    },
    {
      "cell_type": "code",
      "metadata": {
        "colab": {
          "base_uri": "https://localhost:8080/"
        },
        "id": "205_GSmKyV1h",
        "outputId": "1973ba4a-d6cf-4bc1-bb39-18d74aa8bfca"
      },
      "source": [
        "#diag: This function creates a two dimensional \n",
        "#array with all the diagonal elements as the given value\n",
        "#and rest as 0 (in a square matrix).\n",
        "arr = np.diag([1,5,3,7])\n",
        "arr"
      ],
      "execution_count": null,
      "outputs": [
        {
          "output_type": "execute_result",
          "data": {
            "text/plain": [
              "array([[1, 0, 0, 0],\n",
              "       [0, 5, 0, 0],\n",
              "       [0, 0, 3, 0],\n",
              "       [0, 0, 0, 7]])"
            ]
          },
          "metadata": {
            "tags": []
          },
          "execution_count": 138
        }
      ]
    },
    {
      "cell_type": "code",
      "metadata": {
        "colab": {
          "base_uri": "https://localhost:8080/"
        },
        "id": "dDxFMMb1yV1j",
        "outputId": "a6615ef8-30c7-4221-a4c1-fd840d197580"
      },
      "source": [
        "#To get the diagonal elements in a two dimensional array we\n",
        "#use diag as a funcion\n",
        "np.diag(arr)"
      ],
      "execution_count": null,
      "outputs": [
        {
          "output_type": "execute_result",
          "data": {
            "text/plain": [
              "array([1, 5, 3, 7])"
            ]
          },
          "metadata": {
            "tags": []
          },
          "execution_count": 139
        }
      ]
    },
    {
      "cell_type": "markdown",
      "metadata": {
        "id": "pIZKzliCFsSZ"
      },
      "source": [
        "Method 11 "
      ]
    },
    {
      "cell_type": "code",
      "metadata": {
        "colab": {
          "base_uri": "https://localhost:8080/"
        },
        "id": "nVH4GRMUyV1l",
        "outputId": "83eb6a08-0977-4085-9d68-748ccdc94d60"
      },
      "source": [
        "# randint. This funciton is used to generate random number between a given range.\n",
        "#numpy.random.randint(low, high=None, size=None, dtype='l')\n",
        "arr = np.random.randint(1,10,3)\n",
        "arr\n",
        "#output would be any 3 number from 1 to 9"
      ],
      "execution_count": null,
      "outputs": [
        {
          "output_type": "execute_result",
          "data": {
            "text/plain": [
              "array([8, 2, 6])"
            ]
          },
          "metadata": {
            "tags": []
          },
          "execution_count": 140
        }
      ]
    },
    {
      "cell_type": "markdown",
      "metadata": {
        "id": "bsNE0J3DFvBa"
      },
      "source": [
        "Method 12 "
      ]
    },
    {
      "cell_type": "code",
      "metadata": {
        "colab": {
          "base_uri": "https://localhost:8080/"
        },
        "id": "qaWc5IhYyV1m",
        "outputId": "6072ed21-7f5b-403a-fc61-2eacd4d6cbb8"
      },
      "source": [
        "# rand: This function is used to generate random values  between 0 to 1\n",
        "#The syntax is: \n",
        "#numpy.random.rand(d0, d1, ..., dn)\n",
        "arr = np.random.rand(5)\n",
        "arr\n",
        "#Output may be any 5 numbers from 0 to 1"
      ],
      "execution_count": null,
      "outputs": [
        {
          "output_type": "execute_result",
          "data": {
            "text/plain": [
              "array([0.20085906, 0.43598384, 0.60957201, 0.81030221, 0.93500256])"
            ]
          },
          "metadata": {
            "tags": []
          },
          "execution_count": 141
        }
      ]
    },
    {
      "cell_type": "code",
      "metadata": {
        "colab": {
          "base_uri": "https://localhost:8080/"
        },
        "id": "LC4DaN6WyV1o",
        "outputId": "04c22ab3-d9f1-466b-f00d-501233ff076c"
      },
      "source": [
        "#...continues. We may generate random numbers in 2D array format as well\n",
        "arr = np.random.rand(2, 3)\n",
        "arr"
      ],
      "execution_count": null,
      "outputs": [
        {
          "output_type": "execute_result",
          "data": {
            "text/plain": [
              "array([[0.75083009, 0.03643402, 0.80440182],\n",
              "       [0.98476786, 0.53100454, 0.95850766]])"
            ]
          },
          "metadata": {
            "tags": []
          },
          "execution_count": 142
        }
      ]
    },
    {
      "cell_type": "markdown",
      "metadata": {
        "id": "BgzgmArRF1nJ"
      },
      "source": [
        "Method 13"
      ]
    },
    {
      "cell_type": "code",
      "metadata": {
        "colab": {
          "base_uri": "https://localhost:8080/"
        },
        "id": "ZzgD4BKjyV1p",
        "outputId": "8d10d499-a9ba-4e49-b275-39ea763e48c0"
      },
      "source": [
        "# randn: This function is used to generate random values to 0 (zero). This may return positive or negative numbers as well.\n",
        "#The syntax is:\n",
        "#numpy.random.randn(d0, d1, ..., dn)\n",
        "arr = np.random.randn(5)\n",
        "arr\n",
        "#Output may be any 5 numbers from centered to 0 (zero)"
      ],
      "execution_count": null,
      "outputs": [
        {
          "output_type": "execute_result",
          "data": {
            "text/plain": [
              "array([ 0.18033495,  1.37343346, -0.31034713, -1.30535918,  0.05131981])"
            ]
          },
          "metadata": {
            "tags": []
          },
          "execution_count": 143
        }
      ]
    },
    {
      "cell_type": "markdown",
      "metadata": {
        "id": "VSbVmZO1F7Rd"
      },
      "source": [
        "Method 14"
      ]
    },
    {
      "cell_type": "code",
      "metadata": {
        "colab": {
          "base_uri": "https://localhost:8080/"
        },
        "id": "znlvQ8P8yV1r",
        "outputId": "90930c60-5715-486b-9b73-323e7a6346e9"
      },
      "source": [
        "# arange. There would be a starting point and an ending point along with the interval value.\n",
        "# numpy.arange([start, ]stop, [step, ]dtype=None)\n",
        "arr = np.arange(2,15,2)\n",
        "arr"
      ],
      "execution_count": null,
      "outputs": [
        {
          "output_type": "execute_result",
          "data": {
            "text/plain": [
              "array([ 2,  4,  6,  8, 10, 12, 14])"
            ]
          },
          "metadata": {
            "tags": []
          },
          "execution_count": 144
        }
      ]
    },
    {
      "cell_type": "code",
      "metadata": {
        "colab": {
          "base_uri": "https://localhost:8080/"
        },
        "id": "gobux_6DyV1s",
        "outputId": "b0ddb1a0-fcb7-489f-d17e-3d4b002bab2d"
      },
      "source": [
        "#...continues. If we do not specify the value it will automatically be incremented by 1\n",
        "arr = np.arange(2, 14)\n",
        "arr"
      ],
      "execution_count": null,
      "outputs": [
        {
          "output_type": "execute_result",
          "data": {
            "text/plain": [
              "array([ 2,  3,  4,  5,  6,  7,  8,  9, 10, 11, 12, 13])"
            ]
          },
          "metadata": {
            "tags": []
          },
          "execution_count": 145
        }
      ]
    },
    {
      "cell_type": "markdown",
      "metadata": {
        "id": "EMq8v9xIF_KO"
      },
      "source": [
        "Method 15 "
      ]
    },
    {
      "cell_type": "code",
      "metadata": {
        "colab": {
          "base_uri": "https://localhost:8080/"
        },
        "id": "mwKUM03wyV1t",
        "outputId": "454c90eb-7c43-49d6-e482-2259b7cb684a"
      },
      "source": [
        "#sin. Print sine of one angle:\n",
        "#numpy.sin(x, /, out=None, *, where=True, casting='same_kind', order='K', dtype=None, subok=True[, signature, extobj]) = <ufunc 'sin'>\n",
        "np.sin(np.pi/2.)"
      ],
      "execution_count": null,
      "outputs": [
        {
          "output_type": "execute_result",
          "data": {
            "text/plain": [
              "1.0"
            ]
          },
          "metadata": {
            "tags": []
          },
          "execution_count": 146
        }
      ]
    },
    {
      "cell_type": "code",
      "metadata": {
        "colab": {
          "base_uri": "https://localhost:8080/"
        },
        "id": "bks71ZJNyV1v",
        "outputId": "a22ba3e8-dd8e-4c1e-c9b9-351efcac78f9"
      },
      "source": [
        "#...continues. Print sines of an array of angles given in degrees:\n",
        "np.sin(np.array((0., 30., 45., 60., 90.)) * np.pi / 180. )"
      ],
      "execution_count": null,
      "outputs": [
        {
          "output_type": "execute_result",
          "data": {
            "text/plain": [
              "array([0.        , 0.5       , 0.70710678, 0.8660254 , 1.        ])"
            ]
          },
          "metadata": {
            "tags": []
          },
          "execution_count": 147
        }
      ]
    },
    {
      "cell_type": "markdown",
      "metadata": {
        "id": "W-QWqzxlGDm4"
      },
      "source": [
        "Method 16"
      ]
    },
    {
      "cell_type": "code",
      "metadata": {
        "colab": {
          "base_uri": "https://localhost:8080/"
        },
        "id": "s8ZS6xYAyV1w",
        "outputId": "5eceb82e-6d2f-4f6f-a10f-4c5451f0a808"
      },
      "source": [
        "# Cosine element-wise.\n",
        "#numpy.cos(x, /, out=None, *, where=True, casting='same_kind', order='K', dtype=None, subok=True[, signature, extobj]) = <ufunc 'cos'>\n",
        "np.cos(np.array([0, np.pi/2, np.pi]))"
      ],
      "execution_count": null,
      "outputs": [
        {
          "output_type": "execute_result",
          "data": {
            "text/plain": [
              "array([ 1.000000e+00,  6.123234e-17, -1.000000e+00])"
            ]
          },
          "metadata": {
            "tags": []
          },
          "execution_count": 148
        }
      ]
    },
    {
      "cell_type": "markdown",
      "metadata": {
        "id": "5Qq2IV_UGSnC"
      },
      "source": [
        "Method 17"
      ]
    },
    {
      "cell_type": "code",
      "metadata": {
        "colab": {
          "base_uri": "https://localhost:8080/"
        },
        "id": "lncE2H_uyV1y",
        "outputId": "89d18e2a-acfc-4331-a813-ca8dd2c1c6e4"
      },
      "source": [
        "# tan\n",
        "# numpy.tan(x, /, out=None, *, where=True, casting='same_kind', order='K', dtype=None, subok=True[, signature, extobj]) = <ufunc 'tan'>\n",
        "from math import pi\n",
        "np.tan(np.array([-pi,pi/2,pi]))"
      ],
      "execution_count": null,
      "outputs": [
        {
          "output_type": "execute_result",
          "data": {
            "text/plain": [
              "array([ 1.22464680e-16,  1.63312394e+16, -1.22464680e-16])"
            ]
          },
          "metadata": {
            "tags": []
          },
          "execution_count": 149
        }
      ]
    },
    {
      "cell_type": "markdown",
      "metadata": {
        "id": "r-mmebmUGXAJ"
      },
      "source": [
        "Method 18"
      ]
    },
    {
      "cell_type": "code",
      "metadata": {
        "colab": {
          "base_uri": "https://localhost:8080/"
        },
        "id": "TOTgDYsMyV1z",
        "outputId": "38422a41-137f-4948-9772-4675b893f2a2"
      },
      "source": [
        "#round.\n",
        "# numpy.round_(a, decimals=0, out=None)\n",
        "np.round(16.055, 2), round(16.055, 2)  # equals 16.0549999999999997"
      ],
      "execution_count": null,
      "outputs": [
        {
          "output_type": "execute_result",
          "data": {
            "text/plain": [
              "(16.06, 16.05)"
            ]
          },
          "metadata": {
            "tags": []
          },
          "execution_count": 150
        }
      ]
    },
    {
      "cell_type": "code",
      "metadata": {
        "id": "NsiiQbHi8OJG"
      },
      "source": [
        "a = np.array([-1.5, -1.3, -0.7, 0.9, 1.2, 1.4, 2.1])"
      ],
      "execution_count": null,
      "outputs": []
    },
    {
      "cell_type": "markdown",
      "metadata": {
        "id": "OMDK_XgVGbnr"
      },
      "source": [
        "Method 19"
      ]
    },
    {
      "cell_type": "code",
      "metadata": {
        "colab": {
          "base_uri": "https://localhost:8080/"
        },
        "id": "ZxASGn9qyV10",
        "outputId": "c8140929-a321-460d-e303-45a2904a90e8"
      },
      "source": [
        "# floor. Return the floor of the input, element-wise.\n",
        "#The floor of the scalar x is the largest integer i, such that i <= x.\n",
        "# numpy.floor(x, /, out=None, *, where=True, casting='same_kind', order='K', dtype=None, subok=True[, signature, extobj]) = <ufunc 'floor'>\n",
        "np.floor(a)"
      ],
      "execution_count": null,
      "outputs": [
        {
          "output_type": "execute_result",
          "data": {
            "text/plain": [
              "array([-2., -2., -1.,  0.,  1.,  1.,  2.])"
            ]
          },
          "metadata": {
            "tags": []
          },
          "execution_count": 152
        }
      ]
    },
    {
      "cell_type": "markdown",
      "metadata": {
        "id": "IF_gNZsDGeui"
      },
      "source": [
        "Method 20"
      ]
    },
    {
      "cell_type": "code",
      "metadata": {
        "colab": {
          "base_uri": "https://localhost:8080/"
        },
        "id": "a0yHtT5HyV12",
        "outputId": "1be60ddb-9ca7-48a6-d665-b13915d62da5"
      },
      "source": [
        "# ceil. Return the ceiling of the input, element-wise.\n",
        "#The ceil of the scalar x is the smallest integer i, such that i >= x.\n",
        "# numpy.ceil(x, /, out=None, *, where=True, casting='same_kind', order='K', dtype=None, subok=True[, signature, extobj]) = <ufunc 'ceil'>\n",
        "np.ceil(a)"
      ],
      "execution_count": null,
      "outputs": [
        {
          "output_type": "execute_result",
          "data": {
            "text/plain": [
              "array([-1., -1., -0.,  1.,  2.,  2.,  3.])"
            ]
          },
          "metadata": {
            "tags": []
          },
          "execution_count": 153
        }
      ]
    },
    {
      "cell_type": "markdown",
      "metadata": {
        "id": "i-wlsGj9GjIH"
      },
      "source": [
        "Method 21"
      ]
    },
    {
      "cell_type": "code",
      "metadata": {
        "colab": {
          "base_uri": "https://localhost:8080/"
        },
        "id": "0UadiL9SyV13",
        "outputId": "db904854-de08-4da2-9def-261de466aa20"
      },
      "source": [
        "\n",
        "#Return the truncated value of the input, element-wise.\n",
        "#The truncated value of the scalar x is the nearest integer i which is closer to zero than x is. \n",
        "#In short, the fractional part of the signed number x is discarded.\n",
        "# numpy.trunc(x, /, out=None, *, where=True, casting='same_kind', order='K', dtype=None, subok=True[, signature, extobj]) = <ufunc 'trunc'>\n",
        "np.trunc(a)"
      ],
      "execution_count": null,
      "outputs": [
        {
          "output_type": "execute_result",
          "data": {
            "text/plain": [
              "array([-1., -1., -0.,  0.,  1.,  1.,  2.])"
            ]
          },
          "metadata": {
            "tags": []
          },
          "execution_count": 154
        }
      ]
    },
    {
      "cell_type": "markdown",
      "metadata": {
        "id": "TD61aTjIGm3T"
      },
      "source": [
        "Method 22"
      ]
    },
    {
      "cell_type": "code",
      "metadata": {
        "colab": {
          "base_uri": "https://localhost:8080/"
        },
        "id": "MPZpCBePyV15",
        "outputId": "978e5211-d706-4dc1-ead3-27ff7e6526ea"
      },
      "source": [
        "\n",
        "#Return the product of array elements over a given axis.\n",
        "#The product of an empty array is the neutral element 1:\n",
        "# numpy.prod(a, axis=None, dtype=None, out=None, keepdims=<no value>, initial=<no value>, where=<no value>)\n",
        "np.prod([])"
      ],
      "execution_count": null,
      "outputs": [
        {
          "output_type": "execute_result",
          "data": {
            "text/plain": [
              "1.0"
            ]
          },
          "metadata": {
            "tags": []
          },
          "execution_count": 155
        }
      ]
    },
    {
      "cell_type": "code",
      "metadata": {
        "colab": {
          "base_uri": "https://localhost:8080/"
        },
        "id": "MJDqelmFyV16",
        "outputId": "2062d4f1-2b69-4876-8f37-72ff7ac88f6f"
      },
      "source": [
        "#...continues. when the input array is two-dimensional:\n",
        "np.prod([[1.,2.],[3.,4.]])"
      ],
      "execution_count": null,
      "outputs": [
        {
          "output_type": "execute_result",
          "data": {
            "text/plain": [
              "24.0"
            ]
          },
          "metadata": {
            "tags": []
          },
          "execution_count": 156
        }
      ]
    },
    {
      "cell_type": "markdown",
      "metadata": {
        "id": "79Rg9x6WGsCG"
      },
      "source": [
        "Method 23"
      ]
    },
    {
      "cell_type": "code",
      "metadata": {
        "colab": {
          "base_uri": "https://localhost:8080/"
        },
        "id": "Xsv8h8AByV17",
        "outputId": "0aff3654-4af7-417a-f234-bae7b5ee4f5f"
      },
      "source": [
        "#  cumsum. Return the cumulative sum of the elements along a given axis.\n",
        "# numpy.cumsum(a, axis=None, dtype=None, out=None)\n",
        "a = np.array([[1,2,3], [4,5,6]])\n",
        "a"
      ],
      "execution_count": null,
      "outputs": [
        {
          "output_type": "execute_result",
          "data": {
            "text/plain": [
              "array([[1, 2, 3],\n",
              "       [4, 5, 6]])"
            ]
          },
          "metadata": {
            "tags": []
          },
          "execution_count": 157
        }
      ]
    },
    {
      "cell_type": "code",
      "metadata": {
        "colab": {
          "base_uri": "https://localhost:8080/"
        },
        "id": "zef8Q7blyV19",
        "outputId": "587a7424-d92d-41c0-af5e-3a60905a9131"
      },
      "source": [
        "np.cumsum(a,axis=0)  # sum over rows for each of the 3 columns"
      ],
      "execution_count": null,
      "outputs": [
        {
          "output_type": "execute_result",
          "data": {
            "text/plain": [
              "array([[1, 2, 3],\n",
              "       [5, 7, 9]])"
            ]
          },
          "metadata": {
            "tags": []
          },
          "execution_count": 158
        }
      ]
    },
    {
      "cell_type": "markdown",
      "metadata": {
        "id": "KPjXZQzzGv_Y"
      },
      "source": [
        "Method 24"
      ]
    },
    {
      "cell_type": "code",
      "metadata": {
        "colab": {
          "base_uri": "https://localhost:8080/"
        },
        "id": "-OWuG_1PyV1-",
        "outputId": "1c89b0ac-6fc7-48fc-fa37-6bc34a6a596c"
      },
      "source": [
        "# lcm. Returns the lowest common multiple of |x1| and |x2|\n",
        "# numpy.lcm(x1, x2, /, out=None, *, where=True, casting='same_kind', order='K', dtype=None, subok=True[, signature, extobj]) = <ufunc 'lcm'>\n",
        "np.lcm(17, 60)"
      ],
      "execution_count": null,
      "outputs": [
        {
          "output_type": "execute_result",
          "data": {
            "text/plain": [
              "1020"
            ]
          },
          "metadata": {
            "tags": []
          },
          "execution_count": 159
        }
      ]
    },
    {
      "cell_type": "markdown",
      "metadata": {
        "id": "Y97LVPvKG0iz"
      },
      "source": [
        "Method 25"
      ]
    },
    {
      "cell_type": "code",
      "metadata": {
        "colab": {
          "base_uri": "https://localhost:8080/"
        },
        "id": "kzHlBxtGyV1_",
        "outputId": "f74bbff0-9275-4a15-f759-0b15a33e3d22"
      },
      "source": [
        "# gcd. Returns the greatest common divisor of |x1| and |x2|\n",
        "# numpy.gcd(x1, x2, /, out=None, *, where=True, casting='same_kind', order='K', dtype=None, subok=True[, signature, extobj]) = <ufunc 'gcd'>\n",
        "np.gcd(17, 60)"
      ],
      "execution_count": null,
      "outputs": [
        {
          "output_type": "execute_result",
          "data": {
            "text/plain": [
              "1"
            ]
          },
          "metadata": {
            "tags": []
          },
          "execution_count": 160
        }
      ]
    },
    {
      "cell_type": "markdown",
      "metadata": {
        "id": "GU1R0CTeG5R8"
      },
      "source": [
        "Method 26"
      ]
    },
    {
      "cell_type": "code",
      "metadata": {
        "colab": {
          "base_uri": "https://localhost:8080/"
        },
        "id": "HIBhTOxEHA8U",
        "outputId": "4be7591e-8bb2-4446-ecc5-72c1607cd424"
      },
      "source": [
        "x = np.arange(4).reshape((2, 2))\n",
        "x"
      ],
      "execution_count": null,
      "outputs": [
        {
          "output_type": "execute_result",
          "data": {
            "text/plain": [
              "array([[0, 1],\n",
              "       [2, 3]])"
            ]
          },
          "metadata": {
            "tags": []
          },
          "execution_count": 161
        }
      ]
    },
    {
      "cell_type": "code",
      "metadata": {
        "colab": {
          "base_uri": "https://localhost:8080/"
        },
        "id": "AJshJfwayV2A",
        "outputId": "147c61ed-d5ce-4e0e-ebcc-c6f05ea2a63a"
      },
      "source": [
        "# transpose. Reverse or permute the axes of an array; returns the modified array\n",
        "# numpy.transpose(a, axes=None)\n",
        "np.transpose(x)"
      ],
      "execution_count": null,
      "outputs": [
        {
          "output_type": "execute_result",
          "data": {
            "text/plain": [
              "array([[0, 2],\n",
              "       [1, 3]])"
            ]
          },
          "metadata": {
            "tags": []
          },
          "execution_count": 162
        }
      ]
    },
    {
      "cell_type": "markdown",
      "metadata": {
        "id": "hELfYQXSHGls"
      },
      "source": [
        "Method 27"
      ]
    },
    {
      "cell_type": "code",
      "metadata": {
        "colab": {
          "base_uri": "https://localhost:8080/"
        },
        "id": "anvO1Xhl-YGP",
        "outputId": "0837ce35-1150-49a6-d3a2-ea98aa879dcf"
      },
      "source": [
        "c = np.array(['a1b2','1b2a','b2a1','2a1b'],'S4'); \n",
        "c"
      ],
      "execution_count": null,
      "outputs": [
        {
          "output_type": "execute_result",
          "data": {
            "text/plain": [
              "array([b'a1b2', b'1b2a', b'b2a1', b'2a1b'], dtype='|S4')"
            ]
          },
          "metadata": {
            "tags": []
          },
          "execution_count": 163
        }
      ]
    },
    {
      "cell_type": "code",
      "metadata": {
        "colab": {
          "base_uri": "https://localhost:8080/"
        },
        "id": "RU2KFOmfyV2D",
        "outputId": "3ad86f61-f6fe-40d6-ec03-c01ddc4bb940"
      },
      "source": [
        "# capitalize. Return a copy of a with only the first character of each element capitalized.\n",
        "# numpy.char.capitalize(a)\n",
        "np.char.capitalize(c)"
      ],
      "execution_count": null,
      "outputs": [
        {
          "output_type": "execute_result",
          "data": {
            "text/plain": [
              "array([b'A1b2', b'1b2a', b'B2a1', b'2a1b'], dtype='|S4')"
            ]
          },
          "metadata": {
            "tags": []
          },
          "execution_count": 164
        }
      ]
    },
    {
      "cell_type": "markdown",
      "metadata": {
        "id": "XCX9WyxIHJ3p"
      },
      "source": [
        "Method 28"
      ]
    },
    {
      "cell_type": "code",
      "metadata": {
        "colab": {
          "base_uri": "https://localhost:8080/"
        },
        "id": "x5IuW_ax-U9r",
        "outputId": "aed07472-c454-4263-f503-fa6e00075c36"
      },
      "source": [
        "c = np.array(['A1B C', '1BCA', 'BCA1']) \n",
        "c"
      ],
      "execution_count": null,
      "outputs": [
        {
          "output_type": "execute_result",
          "data": {
            "text/plain": [
              "array(['A1B C', '1BCA', 'BCA1'], dtype='<U5')"
            ]
          },
          "metadata": {
            "tags": []
          },
          "execution_count": 165
        }
      ]
    },
    {
      "cell_type": "code",
      "metadata": {
        "colab": {
          "base_uri": "https://localhost:8080/"
        },
        "id": "tO3VO-bdyV2G",
        "outputId": "cb324f4b-7e52-4af8-c3af-f6a604c446a1"
      },
      "source": [
        "# lower. Return an array with the elements converted to lowercase.\n",
        "# numpy.char.lower(a)\n",
        "np.char.lower(c)"
      ],
      "execution_count": null,
      "outputs": [
        {
          "output_type": "execute_result",
          "data": {
            "text/plain": [
              "array(['a1b c', '1bca', 'bca1'], dtype='<U5')"
            ]
          },
          "metadata": {
            "tags": []
          },
          "execution_count": 166
        }
      ]
    },
    {
      "cell_type": "markdown",
      "metadata": {
        "id": "OOJdaZjnHM8s"
      },
      "source": [
        "Method 29"
      ]
    },
    {
      "cell_type": "code",
      "metadata": {
        "colab": {
          "base_uri": "https://localhost:8080/"
        },
        "id": "JTvU3s3d-g7a",
        "outputId": "c6c61c5f-6fc0-469b-88e1-ce5d635cd239"
      },
      "source": [
        "c = np.array(['a1b c', '1bca', 'bca1'])\n",
        "c"
      ],
      "execution_count": null,
      "outputs": [
        {
          "output_type": "execute_result",
          "data": {
            "text/plain": [
              "array(['a1b c', '1bca', 'bca1'], dtype='<U5')"
            ]
          },
          "metadata": {
            "tags": []
          },
          "execution_count": 167
        }
      ]
    },
    {
      "cell_type": "code",
      "metadata": {
        "colab": {
          "base_uri": "https://localhost:8080/"
        },
        "id": "ZeHcgmISyV2I",
        "outputId": "6885c465-7e34-43bf-825c-19a319149e7b"
      },
      "source": [
        "#  upper. Return an array with the elements converted to upper.\n",
        "# numpy.char.upper(a)\n",
        "np.char.upper(c)"
      ],
      "execution_count": null,
      "outputs": [
        {
          "output_type": "execute_result",
          "data": {
            "text/plain": [
              "array(['A1B C', '1BCA', 'BCA1'], dtype='<U5')"
            ]
          },
          "metadata": {
            "tags": []
          },
          "execution_count": 168
        }
      ]
    },
    {
      "cell_type": "markdown",
      "metadata": {
        "id": "SqMS9Hp5HRpa"
      },
      "source": [
        "Method 30"
      ]
    },
    {
      "cell_type": "code",
      "metadata": {
        "colab": {
          "base_uri": "https://localhost:8080/"
        },
        "id": "y2i-HMPi-wRd",
        "outputId": "52ff042f-751c-462e-ae6b-0bd68e3f5b74"
      },
      "source": [
        "c = np.array(['aAaAaA', '  aA  ', 'abBABba'])\n",
        "c"
      ],
      "execution_count": null,
      "outputs": [
        {
          "output_type": "execute_result",
          "data": {
            "text/plain": [
              "array(['aAaAaA', '  aA  ', 'abBABba'], dtype='<U7')"
            ]
          },
          "metadata": {
            "tags": []
          },
          "execution_count": 169
        }
      ]
    },
    {
      "cell_type": "code",
      "metadata": {
        "colab": {
          "base_uri": "https://localhost:8080/"
        },
        "id": "iQjnW5_ZyV2L",
        "outputId": "5133dc8c-e816-4eb9-d322-918889d3853d"
      },
      "source": [
        "# count. Returns an array with the number of non-overlapping occurrences of substring sub in the range [start, end].\n",
        "#Calls str.count element-wise.\n",
        "# numpy.core.defchararray.count(arr, substring, start=0, end=None) \n",
        "np.char.count(c, 'aA')"
      ],
      "execution_count": null,
      "outputs": [
        {
          "output_type": "execute_result",
          "data": {
            "text/plain": [
              "array([3, 1, 0])"
            ]
          },
          "metadata": {
            "tags": []
          },
          "execution_count": 170
        }
      ]
    },
    {
      "cell_type": "markdown",
      "metadata": {
        "id": "w8lrgD2mHYDw"
      },
      "source": [
        "Method 31"
      ]
    },
    {
      "cell_type": "code",
      "metadata": {
        "colab": {
          "base_uri": "https://localhost:8080/"
        },
        "id": "ogVBRa9zyV2P",
        "outputId": "7d680dc9-1174-4d7c-c944-5ea38ecc7da3"
      },
      "source": [
        "#linspace. This function returns values between a given range and with a same gap between consecutive elements.\n",
        "# numpy.linspace(start, stop, num=50, endpoint=True, retstep=False, dtype=None, axis=0)\n",
        "np.linspace(1,2,5)"
      ],
      "execution_count": null,
      "outputs": [
        {
          "output_type": "execute_result",
          "data": {
            "text/plain": [
              "array([1.  , 1.25, 1.5 , 1.75, 2.  ])"
            ]
          },
          "metadata": {
            "tags": []
          },
          "execution_count": 171
        }
      ]
    },
    {
      "cell_type": "code",
      "metadata": {
        "colab": {
          "base_uri": "https://localhost:8080/"
        },
        "id": "hvS1LWOL_cTu",
        "outputId": "4aef051c-4e4b-4846-d717-13e8b1da49a2"
      },
      "source": [
        "matrix = np.random.randint(1,4,9).reshape(3,3)\n",
        "matrix"
      ],
      "execution_count": null,
      "outputs": [
        {
          "output_type": "execute_result",
          "data": {
            "text/plain": [
              "array([[2, 1, 1],\n",
              "       [1, 2, 1],\n",
              "       [1, 2, 1]])"
            ]
          },
          "metadata": {
            "tags": []
          },
          "execution_count": 172
        }
      ]
    },
    {
      "cell_type": "markdown",
      "metadata": {
        "id": "IoKpHJ3m_imL"
      },
      "source": [
        "Method 32"
      ]
    },
    {
      "cell_type": "code",
      "metadata": {
        "colab": {
          "base_uri": "https://localhost:8080/"
        },
        "id": "aQg62PhSyV2R",
        "outputId": "3a0b3507-decd-4a67-c8b9-6a6207635b00"
      },
      "source": [
        "np.min(matrix, axis=1) #finds row wise min"
      ],
      "execution_count": null,
      "outputs": [
        {
          "output_type": "execute_result",
          "data": {
            "text/plain": [
              "array([1, 1, 1])"
            ]
          },
          "metadata": {
            "tags": []
          },
          "execution_count": 173
        }
      ]
    },
    {
      "cell_type": "markdown",
      "metadata": {
        "id": "uaiAOHNc_nAz"
      },
      "source": [
        "Method 33"
      ]
    },
    {
      "cell_type": "code",
      "metadata": {
        "colab": {
          "base_uri": "https://localhost:8080/"
        },
        "id": "QgLahuJByV2T",
        "outputId": "63b646c5-c485-409a-ad36-6722cbb9827d"
      },
      "source": [
        "np.max(matrix, axis=0) #finds col wise max"
      ],
      "execution_count": null,
      "outputs": [
        {
          "output_type": "execute_result",
          "data": {
            "text/plain": [
              "array([2, 2, 1])"
            ]
          },
          "metadata": {
            "tags": []
          },
          "execution_count": 174
        }
      ]
    },
    {
      "cell_type": "markdown",
      "metadata": {
        "id": "oCAiB3_4_p5K"
      },
      "source": [
        "Method 34"
      ]
    },
    {
      "cell_type": "code",
      "metadata": {
        "colab": {
          "base_uri": "https://localhost:8080/"
        },
        "id": "DC3U-iOLyV2U",
        "outputId": "8c9e99e6-001b-4918-aec4-7b2c239c110b"
      },
      "source": [
        "np.sum(matrix, axis=1) #finds row wise sum"
      ],
      "execution_count": null,
      "outputs": [
        {
          "output_type": "execute_result",
          "data": {
            "text/plain": [
              "array([4, 4, 4])"
            ]
          },
          "metadata": {
            "tags": []
          },
          "execution_count": 175
        }
      ]
    },
    {
      "cell_type": "markdown",
      "metadata": {
        "id": "7Nvk-LoG_t2a"
      },
      "source": [
        "Method 35"
      ]
    },
    {
      "cell_type": "code",
      "metadata": {
        "colab": {
          "base_uri": "https://localhost:8080/"
        },
        "id": "HWeZ0eVpyV2V",
        "outputId": "c4068991-bacf-4ad0-a917-e9b61f4ca09f"
      },
      "source": [
        "np.cumsum(matrix) #finds cumulative sum"
      ],
      "execution_count": null,
      "outputs": [
        {
          "output_type": "execute_result",
          "data": {
            "text/plain": [
              "array([ 2,  3,  4,  5,  7,  8,  9, 11, 12])"
            ]
          },
          "metadata": {
            "tags": []
          },
          "execution_count": 176
        }
      ]
    },
    {
      "cell_type": "markdown",
      "metadata": {
        "id": "kyuZlDwP_xGY"
      },
      "source": [
        "Method 36"
      ]
    },
    {
      "cell_type": "code",
      "metadata": {
        "colab": {
          "base_uri": "https://localhost:8080/"
        },
        "id": "angQaw0zABZL",
        "outputId": "4d116f45-c552-4c44-8ca8-b5ce6e8a7347"
      },
      "source": [
        "np.random.seed(122)\n",
        "arr = np.random.randint(1,21,10)\n",
        "arr"
      ],
      "execution_count": null,
      "outputs": [
        {
          "output_type": "execute_result",
          "data": {
            "text/plain": [
              "array([16, 11, 13, 17, 13, 16,  3, 16, 11, 10])"
            ]
          },
          "metadata": {
            "tags": []
          },
          "execution_count": 177
        }
      ]
    },
    {
      "cell_type": "code",
      "metadata": {
        "colab": {
          "base_uri": "https://localhost:8080/"
        },
        "id": "oy6eEgH9yV2X",
        "outputId": "719eff2d-8af7-4a9b-f8cd-496d5bccddcb"
      },
      "source": [
        "# shuffle. shuffle the array elements.\n",
        "# numpy.random.shuffle(x)\n",
        "np.random.shuffle(arr)\n",
        "arr"
      ],
      "execution_count": null,
      "outputs": [
        {
          "output_type": "execute_result",
          "data": {
            "text/plain": [
              "array([13, 16, 16, 11, 16, 10, 11, 13, 17,  3])"
            ]
          },
          "metadata": {
            "tags": []
          },
          "execution_count": 178
        }
      ]
    },
    {
      "cell_type": "markdown",
      "metadata": {
        "id": "NDeJla-WAZQ7"
      },
      "source": [
        "Method 37"
      ]
    },
    {
      "cell_type": "code",
      "metadata": {
        "colab": {
          "base_uri": "https://localhost:8080/"
        },
        "id": "u-0vvu5eyV2Z",
        "outputId": "c2084934-2cb0-4be6-c49b-e60d591a4947"
      },
      "source": [
        "# unique. displays unique number of the array.\n",
        "# numpy.unique(ar, return_index=False, return_inverse=False, return_counts=False, axis=None)\n",
        "np.unique(arr)"
      ],
      "execution_count": null,
      "outputs": [
        {
          "output_type": "execute_result",
          "data": {
            "text/plain": [
              "array([ 3, 10, 11, 13, 16, 17])"
            ]
          },
          "metadata": {
            "tags": []
          },
          "execution_count": 179
        }
      ]
    },
    {
      "cell_type": "markdown",
      "metadata": {
        "id": "r4P2MvzMAdOJ"
      },
      "source": [
        "Method 38"
      ]
    },
    {
      "cell_type": "code",
      "metadata": {
        "colab": {
          "base_uri": "https://localhost:8080/"
        },
        "id": "jWIQDOMQyV2c",
        "outputId": "dcab0cb6-1214-4957-8a1c-149a4e148bc0"
      },
      "source": [
        "# argsort. prints the sorted index value wise ascending\n",
        "# numpy.argsort(a, axis=-1, kind=None, order=None)\n",
        "one = np.array([1,3,4,2])\n",
        "one.argsort()"
      ],
      "execution_count": null,
      "outputs": [
        {
          "output_type": "execute_result",
          "data": {
            "text/plain": [
              "array([0, 3, 1, 2])"
            ]
          },
          "metadata": {
            "tags": []
          },
          "execution_count": 180
        }
      ]
    },
    {
      "cell_type": "code",
      "metadata": {
        "colab": {
          "base_uri": "https://localhost:8080/"
        },
        "id": "N2FIiS-yA12h",
        "outputId": "3f76b197-90ec-494a-924a-376d56581ef4"
      },
      "source": [
        "x = [[1,2,3],[4,5,6],[7,1,0]]\n",
        "arr = np.array(x)\n",
        "arr"
      ],
      "execution_count": null,
      "outputs": [
        {
          "output_type": "execute_result",
          "data": {
            "text/plain": [
              "array([[1, 2, 3],\n",
              "       [4, 5, 6],\n",
              "       [7, 1, 0]])"
            ]
          },
          "metadata": {
            "tags": []
          },
          "execution_count": 181
        }
      ]
    },
    {
      "cell_type": "markdown",
      "metadata": {
        "id": "0bhmFa-OAu6f"
      },
      "source": [
        "Method 39"
      ]
    },
    {
      "cell_type": "code",
      "metadata": {
        "colab": {
          "base_uri": "https://localhost:8080/"
        },
        "id": "n-XVQIVjyV2e",
        "outputId": "12ca1be2-99d0-4ae2-8a5c-64dfafa72e65"
      },
      "source": [
        "# Return elements chosen from x or y depending on condition.\n",
        "# numpy.where(condition[, x, y])\n",
        "np.where(arr > 5)"
      ],
      "execution_count": null,
      "outputs": [
        {
          "output_type": "execute_result",
          "data": {
            "text/plain": [
              "(array([1, 2]), array([2, 0]))"
            ]
          },
          "metadata": {
            "tags": []
          },
          "execution_count": 182
        }
      ]
    },
    {
      "cell_type": "markdown",
      "metadata": {
        "id": "_ewXBbqdBDXG"
      },
      "source": [
        "Method 40"
      ]
    },
    {
      "cell_type": "code",
      "metadata": {
        "colab": {
          "base_uri": "https://localhost:8080/"
        },
        "id": "GbQ8zwZcyV2g",
        "outputId": "d996e760-991d-48f8-b4a7-5d58bc628177"
      },
      "source": [
        "# Counts the number of non-zero values in the array a.\n",
        "# numpy.count_nonzero(a, axis=None, *, keepdims=False)\n",
        "np.count_nonzero(arr)"
      ],
      "execution_count": null,
      "outputs": [
        {
          "output_type": "execute_result",
          "data": {
            "text/plain": [
              "8"
            ]
          },
          "metadata": {
            "tags": []
          },
          "execution_count": 183
        }
      ]
    },
    {
      "cell_type": "code",
      "metadata": {
        "colab": {
          "base_uri": "https://localhost:8080/"
        },
        "id": "OJNfY2byBna-",
        "outputId": "d0dccf21-b9ff-4297-b114-3d2db6c81f71"
      },
      "source": [
        "a = np.array([[1,4], [3,1]])\n",
        "a"
      ],
      "execution_count": null,
      "outputs": [
        {
          "output_type": "execute_result",
          "data": {
            "text/plain": [
              "array([[1, 4],\n",
              "       [3, 1]])"
            ]
          },
          "metadata": {
            "tags": []
          },
          "execution_count": 184
        }
      ]
    },
    {
      "cell_type": "markdown",
      "metadata": {
        "id": "gpQeBboXBd3b"
      },
      "source": [
        "Method 41"
      ]
    },
    {
      "cell_type": "code",
      "metadata": {
        "colab": {
          "base_uri": "https://localhost:8080/"
        },
        "id": "m8gxpyotyV2i",
        "outputId": "784267ed-e63e-4c51-b8b3-e3861026578e"
      },
      "source": [
        "#  It is used to sort an array\n",
        "a.sort(axis=1)\n",
        "print(a)\n",
        "a.sort(axis=0)\n",
        "print(a)"
      ],
      "execution_count": null,
      "outputs": [
        {
          "output_type": "stream",
          "text": [
            "[[1 4]\n",
            " [1 3]]\n",
            "[[1 3]\n",
            " [1 4]]\n"
          ],
          "name": "stdout"
        }
      ]
    },
    {
      "cell_type": "markdown",
      "metadata": {
        "id": "cFTJV1LIB-Vj"
      },
      "source": [
        "Method 42"
      ]
    },
    {
      "cell_type": "code",
      "metadata": {
        "colab": {
          "base_uri": "https://localhost:8080/"
        },
        "id": "yVneUYNRyV2l",
        "outputId": "c01f5d48-ae8d-475e-c158-29335b0a47aa"
      },
      "source": [
        "#. Compute the variance along the specified axis.\n",
        "# numpy.var(a, axis=None, dtype=None, out=None, ddof=0, keepdims=<no value>)\n",
        "a = np.array([[1, 2], [3, 4]])\n",
        "np.var(a)"
      ],
      "execution_count": null,
      "outputs": [
        {
          "output_type": "execute_result",
          "data": {
            "text/plain": [
              "1.25"
            ]
          },
          "metadata": {
            "tags": []
          },
          "execution_count": 186
        }
      ]
    },
    {
      "cell_type": "markdown",
      "metadata": {
        "id": "ku8fp3CbCKlL"
      },
      "source": [
        "Method 43"
      ]
    },
    {
      "cell_type": "code",
      "metadata": {
        "colab": {
          "base_uri": "https://localhost:8080/"
        },
        "id": "0o06GTqCyV2n",
        "outputId": "b58a6f50-c764-481b-c23f-793ae19e0e85"
      },
      "source": [
        "#  Split an array into multiple sub-arrays as views into ary.\n",
        "#multiple sub-arrays as views into ary.\n",
        "# numpy.split(ary, indices_or_sections, axis=0)[source]\n",
        "\n",
        "x = np.arange(9.0)\n",
        "np.split(x, 3)"
      ],
      "execution_count": null,
      "outputs": [
        {
          "output_type": "execute_result",
          "data": {
            "text/plain": [
              "[array([0., 1., 2.]), array([3., 4., 5.]), array([6., 7., 8.])]"
            ]
          },
          "metadata": {
            "tags": []
          },
          "execution_count": 187
        }
      ]
    },
    {
      "cell_type": "code",
      "metadata": {
        "colab": {
          "base_uri": "https://localhost:8080/"
        },
        "id": "74F2URGWyV2o",
        "outputId": "d8e771d8-8c0f-43f2-d909-eaf846461001"
      },
      "source": [
        "#...continues\n",
        "x = np.arange(8.0)\n",
        "np.split(x, [3,5,6,10])"
      ],
      "execution_count": null,
      "outputs": [
        {
          "output_type": "execute_result",
          "data": {
            "text/plain": [
              "[array([0., 1., 2.]),\n",
              " array([3., 4.]),\n",
              " array([5.]),\n",
              " array([6., 7.]),\n",
              " array([], dtype=float64)]"
            ]
          },
          "metadata": {
            "tags": []
          },
          "execution_count": 188
        }
      ]
    },
    {
      "cell_type": "markdown",
      "metadata": {
        "id": "ZqVCu1-YCgFZ"
      },
      "source": [
        "Method 44"
      ]
    },
    {
      "cell_type": "code",
      "metadata": {
        "colab": {
          "base_uri": "https://localhost:8080/"
        },
        "id": "PqMAUvcjCenK",
        "outputId": "a65656ba-3733-4ade-eb88-e10a4d06c208"
      },
      "source": [
        "arr = np.array([[1,2,3,4], [5,6,7,8],[9,10,11,12]])\n",
        "arr"
      ],
      "execution_count": null,
      "outputs": [
        {
          "output_type": "execute_result",
          "data": {
            "text/plain": [
              "array([[ 1,  2,  3,  4],\n",
              "       [ 5,  6,  7,  8],\n",
              "       [ 9, 10, 11, 12]])"
            ]
          },
          "metadata": {
            "tags": []
          },
          "execution_count": 189
        }
      ]
    },
    {
      "cell_type": "code",
      "metadata": {
        "colab": {
          "base_uri": "https://localhost:8080/"
        },
        "id": "cm1Jdde6yV2p",
        "outputId": "4d778ca7-fdfe-45f9-de97-5601b7247f63"
      },
      "source": [
        "# delete. Return a new array with sub-arrays along an axis deleted. For a one dimensional array, this returns those entries not returned by arr[obj].\n",
        "# numpy.delete(arr, obj, axis=None)\n",
        "np.delete(arr, 1, 0)"
      ],
      "execution_count": null,
      "outputs": [
        {
          "output_type": "execute_result",
          "data": {
            "text/plain": [
              "array([[ 1,  2,  3,  4],\n",
              "       [ 9, 10, 11, 12]])"
            ]
          },
          "metadata": {
            "tags": []
          },
          "execution_count": 190
        }
      ]
    },
    {
      "cell_type": "markdown",
      "metadata": {
        "id": "y1cE2QrFCmgh"
      },
      "source": [
        "Method 45"
      ]
    },
    {
      "cell_type": "code",
      "metadata": {
        "colab": {
          "base_uri": "https://localhost:8080/"
        },
        "id": "ZBPf2XacDIoC",
        "outputId": "2a07c312-c02d-43f6-f546-3a0436f06594"
      },
      "source": [
        "a = np.array([[1,1],[2,2],[3,3]])\n",
        "a"
      ],
      "execution_count": null,
      "outputs": [
        {
          "output_type": "execute_result",
          "data": {
            "text/plain": [
              "array([[1, 1],\n",
              "       [2, 2],\n",
              "       [3, 3]])"
            ]
          },
          "metadata": {
            "tags": []
          },
          "execution_count": 191
        }
      ]
    },
    {
      "cell_type": "code",
      "metadata": {
        "colab": {
          "base_uri": "https://localhost:8080/"
        },
        "id": "bOSf60nsyV2t",
        "outputId": "da8681b3-a9b1-4229-d543-0d33643a65bd"
      },
      "source": [
        "# Insert values along the given axis before the given indices.\n",
        "# numpy.insert(arr, obj, values, axis=None)\n",
        "np.insert(a, 1, 5)"
      ],
      "execution_count": null,
      "outputs": [
        {
          "output_type": "execute_result",
          "data": {
            "text/plain": [
              "array([1, 5, 1, 2, 2, 3, 3])"
            ]
          },
          "metadata": {
            "tags": []
          },
          "execution_count": 192
        }
      ]
    },
    {
      "cell_type": "markdown",
      "metadata": {
        "id": "fIUevw1IDP2A"
      },
      "source": [
        "Method 46"
      ]
    },
    {
      "cell_type": "code",
      "metadata": {
        "colab": {
          "base_uri": "https://localhost:8080/"
        },
        "id": "xB8oNOvxDVvT",
        "outputId": "b8d38df8-9051-4e77-8854-3fb7e379367e"
      },
      "source": [
        "A = np.diag([1.,2.,3.])\n",
        "A"
      ],
      "execution_count": null,
      "outputs": [
        {
          "output_type": "execute_result",
          "data": {
            "text/plain": [
              "array([[1., 0., 0.],\n",
              "       [0., 2., 0.],\n",
              "       [0., 0., 3.]])"
            ]
          },
          "metadata": {
            "tags": []
          },
          "execution_count": 193
        }
      ]
    },
    {
      "cell_type": "code",
      "metadata": {
        "colab": {
          "base_uri": "https://localhost:8080/"
        },
        "id": "PlEUbwiUyV2x",
        "outputId": "8d2cf378-2a4e-4009-80f2-7b49d36462d8"
      },
      "source": [
        "# Flip array in the left/right direction.\n",
        "# Flip the entries in each row in the left/right direction. Columns are preserved, but appear in a different order than before.\n",
        "# Requires the array to at least 2-D.\n",
        "# numpy.fliplr(m)\n",
        "np.fliplr(A)"
      ],
      "execution_count": null,
      "outputs": [
        {
          "output_type": "execute_result",
          "data": {
            "text/plain": [
              "array([[0., 0., 1.],\n",
              "       [0., 2., 0.],\n",
              "       [3., 0., 0.]])"
            ]
          },
          "metadata": {
            "tags": []
          },
          "execution_count": 194
        }
      ]
    },
    {
      "cell_type": "markdown",
      "metadata": {
        "id": "q9YKanY0DwFW"
      },
      "source": [
        "Method 47"
      ]
    },
    {
      "cell_type": "code",
      "metadata": {
        "colab": {
          "base_uri": "https://localhost:8080/"
        },
        "id": "-SbSNr8YD_fd",
        "outputId": "910e99ca-8bbb-46aa-e9a2-a7dfb05d9c1a"
      },
      "source": [
        "A = np.diag([1.0, 2, 3])\n",
        "A"
      ],
      "execution_count": null,
      "outputs": [
        {
          "output_type": "execute_result",
          "data": {
            "text/plain": [
              "array([[1., 0., 0.],\n",
              "       [0., 2., 0.],\n",
              "       [0., 0., 3.]])"
            ]
          },
          "metadata": {
            "tags": []
          },
          "execution_count": 195
        }
      ]
    },
    {
      "cell_type": "code",
      "metadata": {
        "colab": {
          "base_uri": "https://localhost:8080/"
        },
        "id": "kNEcQxoryV22",
        "outputId": "5b8e5749-27ae-4162-ec8f-84951ca2fb06"
      },
      "source": [
        "#Does not require the array to be two-dimensional.\n",
        "# Flip array in the up/down direction.\n",
        "# numpy.flipud(m)\n",
        "np.flipud(A)"
      ],
      "execution_count": null,
      "outputs": [
        {
          "output_type": "execute_result",
          "data": {
            "text/plain": [
              "array([[0., 0., 3.],\n",
              "       [0., 2., 0.],\n",
              "       [1., 0., 0.]])"
            ]
          },
          "metadata": {
            "tags": []
          },
          "execution_count": 196
        }
      ]
    },
    {
      "cell_type": "markdown",
      "metadata": {
        "id": "UtEd5HIDEFAl"
      },
      "source": [
        "Method 48"
      ]
    },
    {
      "cell_type": "code",
      "metadata": {
        "colab": {
          "base_uri": "https://localhost:8080/"
        },
        "id": "rWyFV2JjyV26",
        "outputId": "80e03fc8-68f7-4d77-c660-b6b522b40523"
      },
      "source": [
        "# Inner product of two arrays.\n",
        "# numpy.inner(a, b)\n",
        "a = np.array([1,2,3])\n",
        "b = np.array([0,1,0])\n",
        "np.inner(a, b)"
      ],
      "execution_count": null,
      "outputs": [
        {
          "output_type": "execute_result",
          "data": {
            "text/plain": [
              "2"
            ]
          },
          "metadata": {
            "tags": []
          },
          "execution_count": 197
        }
      ]
    },
    {
      "cell_type": "markdown",
      "metadata": {
        "id": "85OApa-eEcEm"
      },
      "source": [
        "Method 49"
      ]
    },
    {
      "cell_type": "code",
      "metadata": {
        "colab": {
          "base_uri": "https://localhost:8080/"
        },
        "id": "RTX50WHJyV28",
        "outputId": "c7b4f5df-747a-4dc2-9ce1-e4d2b1f13081"
      },
      "source": [
        "#. Return the sum along diagonals of the array.\n",
        "# numpy.trace(a, offset=0, axis1=0, axis2=1, dtype=None, out=None)\n",
        "np.trace(np.eye(3))"
      ],
      "execution_count": null,
      "outputs": [
        {
          "output_type": "execute_result",
          "data": {
            "text/plain": [
              "3.0"
            ]
          },
          "metadata": {
            "tags": []
          },
          "execution_count": 198
        }
      ]
    },
    {
      "cell_type": "markdown",
      "metadata": {
        "id": "bFxzWm37Eea8"
      },
      "source": [
        "Method 50"
      ]
    },
    {
      "cell_type": "code",
      "metadata": {
        "colab": {
          "base_uri": "https://localhost:8080/"
        },
        "id": "aiIk5JQWyV29",
        "outputId": "b3363fe8-4fa0-4c3e-c4e6-af9bff20ad2e"
      },
      "source": [
        "#  reciprocal. Return the reciprocal of the argument, element-wise.\n",
        "#This function is not designed to work with integers.\n",
        "# numpy.reciprocal(x, /, out=None, *, where=True, casting='same_kind', order='K', dtype=None, subok=True[, signature, extobj]) = <ufunc 'reciprocal'>\n",
        "np.reciprocal(2.)"
      ],
      "execution_count": null,
      "outputs": [
        {
          "output_type": "execute_result",
          "data": {
            "text/plain": [
              "0.5"
            ]
          },
          "metadata": {
            "tags": []
          },
          "execution_count": 199
        }
      ]
    },
    {
      "cell_type": "markdown",
      "metadata": {
        "id": "t3N_3ak2EvHR"
      },
      "source": [
        "Method 51"
      ]
    },
    {
      "cell_type": "code",
      "metadata": {
        "colab": {
          "base_uri": "https://localhost:8080/"
        },
        "id": "fERzSnvGyV2-",
        "outputId": "5341e56d-d9e2-4f37-d1b1-e2a5bd4529dd"
      },
      "source": [
        "#. conjucate. Return the complex conjugate, element-wise.\n",
        "# numpy.conjugate(x, /, out=None, *, where=True, casting='same_kind', order='K', dtype=None, subok=True[, signature, extobj]) = <ufunc 'conjugate'>\n",
        "x = np.eye(2) + 1j * np.eye(2)\n",
        "np.conjugate(x)"
      ],
      "execution_count": null,
      "outputs": [
        {
          "output_type": "execute_result",
          "data": {
            "text/plain": [
              "array([[1.-1.j, 0.-0.j],\n",
              "       [0.-0.j, 1.-1.j]])"
            ]
          },
          "metadata": {
            "tags": []
          },
          "execution_count": 200
        }
      ]
    }
  ]
}